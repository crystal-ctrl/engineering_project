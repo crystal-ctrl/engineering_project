{
 "cells": [
  {
   "cell_type": "markdown",
   "id": "exposed-writer",
   "metadata": {},
   "source": [
    "# EDA"
   ]
  },
  {
   "cell_type": "code",
   "execution_count": 1,
   "id": "creative-gateway",
   "metadata": {},
   "outputs": [],
   "source": [
    "import numpy as np\n",
    "import pandas as pd\n",
    "from sqlalchemy import create_engine\n",
    "import warnings\n",
    "warnings.filterwarnings('ignore')"
   ]
  },
  {
   "cell_type": "markdown",
   "id": "together-police",
   "metadata": {},
   "source": [
    "## 1. COVID-19 Report"
   ]
  },
  {
   "cell_type": "code",
   "execution_count": 2,
   "id": "mechanical-shift",
   "metadata": {},
   "outputs": [],
   "source": [
    "# Accessing data from database\n",
    "engine = create_engine('sqlite:///covid.db')\n",
    "df = pd.read_sql('SELECT * FROM case_data;',engine)\n",
    "\n",
    "df['report_date'] = pd.to_datetime(df.report_date)"
   ]
  },
  {
   "cell_type": "code",
   "execution_count": 3,
   "id": "alleged-monaco",
   "metadata": {},
   "outputs": [
    {
     "data": {
      "text/html": [
       "<div>\n",
       "<style scoped>\n",
       "    .dataframe tbody tr th:only-of-type {\n",
       "        vertical-align: middle;\n",
       "    }\n",
       "\n",
       "    .dataframe tbody tr th {\n",
       "        vertical-align: top;\n",
       "    }\n",
       "\n",
       "    .dataframe thead th {\n",
       "        text-align: right;\n",
       "    }\n",
       "</style>\n",
       "<table border=\"1\" class=\"dataframe\">\n",
       "  <thead>\n",
       "    <tr style=\"text-align: right;\">\n",
       "      <th></th>\n",
       "      <th>report_date</th>\n",
       "      <th>fips</th>\n",
       "      <th>locality</th>\n",
       "      <th>vdh_health_district</th>\n",
       "      <th>total_cases</th>\n",
       "      <th>hospitalizations</th>\n",
       "      <th>deaths</th>\n",
       "    </tr>\n",
       "  </thead>\n",
       "  <tbody>\n",
       "    <tr>\n",
       "      <th>0</th>\n",
       "      <td>2021-06-18</td>\n",
       "      <td>51001</td>\n",
       "      <td>Accomack</td>\n",
       "      <td>Eastern Shore</td>\n",
       "      <td>2868</td>\n",
       "      <td>212</td>\n",
       "      <td>45</td>\n",
       "    </tr>\n",
       "    <tr>\n",
       "      <th>1</th>\n",
       "      <td>2021-06-18</td>\n",
       "      <td>51003</td>\n",
       "      <td>Albemarle</td>\n",
       "      <td>Blue Ridge</td>\n",
       "      <td>5815</td>\n",
       "      <td>235</td>\n",
       "      <td>85</td>\n",
       "    </tr>\n",
       "    <tr>\n",
       "      <th>2</th>\n",
       "      <td>2021-06-18</td>\n",
       "      <td>51005</td>\n",
       "      <td>Alleghany</td>\n",
       "      <td>Alleghany</td>\n",
       "      <td>1372</td>\n",
       "      <td>64</td>\n",
       "      <td>49</td>\n",
       "    </tr>\n",
       "    <tr>\n",
       "      <th>3</th>\n",
       "      <td>2021-06-18</td>\n",
       "      <td>51007</td>\n",
       "      <td>Amelia</td>\n",
       "      <td>Piedmont</td>\n",
       "      <td>926</td>\n",
       "      <td>54</td>\n",
       "      <td>36</td>\n",
       "    </tr>\n",
       "    <tr>\n",
       "      <th>4</th>\n",
       "      <td>2021-06-18</td>\n",
       "      <td>51009</td>\n",
       "      <td>Amherst</td>\n",
       "      <td>Central Virginia</td>\n",
       "      <td>2979</td>\n",
       "      <td>127</td>\n",
       "      <td>40</td>\n",
       "    </tr>\n",
       "  </tbody>\n",
       "</table>\n",
       "</div>"
      ],
      "text/plain": [
       "  report_date   fips   locality vdh_health_district total_cases  \\\n",
       "0  2021-06-18  51001   Accomack       Eastern Shore        2868   \n",
       "1  2021-06-18  51003  Albemarle          Blue Ridge        5815   \n",
       "2  2021-06-18  51005  Alleghany           Alleghany        1372   \n",
       "3  2021-06-18  51007     Amelia            Piedmont         926   \n",
       "4  2021-06-18  51009    Amherst    Central Virginia        2979   \n",
       "\n",
       "  hospitalizations deaths  \n",
       "0              212     45  \n",
       "1              235     85  \n",
       "2               64     49  \n",
       "3               54     36  \n",
       "4              127     40  "
      ]
     },
     "execution_count": 3,
     "metadata": {},
     "output_type": "execute_result"
    }
   ],
   "source": [
    "df.head()"
   ]
  },
  {
   "cell_type": "code",
   "execution_count": 4,
   "id": "distinguished-encyclopedia",
   "metadata": {},
   "outputs": [
    {
     "name": "stdout",
     "output_type": "stream",
     "text": [
      "<class 'pandas.core.frame.DataFrame'>\n",
      "RangeIndex: 61047 entries, 0 to 61046\n",
      "Data columns (total 7 columns):\n",
      " #   Column               Non-Null Count  Dtype         \n",
      "---  ------               --------------  -----         \n",
      " 0   report_date          61047 non-null  datetime64[ns]\n",
      " 1   fips                 61047 non-null  object        \n",
      " 2   locality             61047 non-null  object        \n",
      " 3   vdh_health_district  61047 non-null  object        \n",
      " 4   total_cases          61047 non-null  object        \n",
      " 5   hospitalizations     61047 non-null  object        \n",
      " 6   deaths               61047 non-null  object        \n",
      "dtypes: datetime64[ns](1), object(6)\n",
      "memory usage: 3.3+ MB\n"
     ]
    }
   ],
   "source": [
    "df.info()"
   ]
  },
  {
   "cell_type": "code",
   "execution_count": 17,
   "id": "consolidated-chile",
   "metadata": {},
   "outputs": [],
   "source": [
    "df['total_cases'] = df.total_cases.astype(int)\n",
    "df['hospitalizations'] = df.hospitalizations.astype(int)\n",
    "df['deaths'] = df.deaths.astype(int)"
   ]
  },
  {
   "cell_type": "code",
   "execution_count": 5,
   "id": "welcome-leone",
   "metadata": {},
   "outputs": [
    {
     "data": {
      "text/html": [
       "<div>\n",
       "<style scoped>\n",
       "    .dataframe tbody tr th:only-of-type {\n",
       "        vertical-align: middle;\n",
       "    }\n",
       "\n",
       "    .dataframe tbody tr th {\n",
       "        vertical-align: top;\n",
       "    }\n",
       "\n",
       "    .dataframe thead th {\n",
       "        text-align: right;\n",
       "    }\n",
       "</style>\n",
       "<table border=\"1\" class=\"dataframe\">\n",
       "  <thead>\n",
       "    <tr style=\"text-align: right;\">\n",
       "      <th></th>\n",
       "      <th>vdh_health_district</th>\n",
       "      <th>locality</th>\n",
       "      <th>report_date</th>\n",
       "      <th>total_cases</th>\n",
       "    </tr>\n",
       "  </thead>\n",
       "  <tbody>\n",
       "    <tr>\n",
       "      <th>48563</th>\n",
       "      <td>Richmond</td>\n",
       "      <td>Richmond City</td>\n",
       "      <td>2021-01-07</td>\n",
       "      <td>9999</td>\n",
       "    </tr>\n",
       "    <tr>\n",
       "      <th>45885</th>\n",
       "      <td>Rappahannock</td>\n",
       "      <td>Stafford</td>\n",
       "      <td>2021-03-24</td>\n",
       "      <td>9998</td>\n",
       "    </tr>\n",
       "    <tr>\n",
       "      <th>3512</th>\n",
       "      <td>Arlington</td>\n",
       "      <td>Arlington</td>\n",
       "      <td>2021-01-10</td>\n",
       "      <td>9997</td>\n",
       "    </tr>\n",
       "    <tr>\n",
       "      <th>23418</th>\n",
       "      <td>Hampton</td>\n",
       "      <td>Hampton</td>\n",
       "      <td>2021-04-17</td>\n",
       "      <td>9996</td>\n",
       "    </tr>\n",
       "    <tr>\n",
       "      <th>57166</th>\n",
       "      <td>Virginia Beach</td>\n",
       "      <td>Virginia Beach</td>\n",
       "      <td>2020-11-22</td>\n",
       "      <td>9992</td>\n",
       "    </tr>\n",
       "  </tbody>\n",
       "</table>\n",
       "</div>"
      ],
      "text/plain": [
       "      vdh_health_district        locality report_date total_cases\n",
       "48563            Richmond   Richmond City  2021-01-07        9999\n",
       "45885        Rappahannock        Stafford  2021-03-24        9998\n",
       "3512            Arlington       Arlington  2021-01-10        9997\n",
       "23418             Hampton         Hampton  2021-04-17        9996\n",
       "57166      Virginia Beach  Virginia Beach  2020-11-22        9992"
      ]
     },
     "execution_count": 5,
     "metadata": {},
     "output_type": "execute_result"
    }
   ],
   "source": [
    "# group by district, county and date\n",
    "(df\n",
    ".groupby(['vdh_health_district','locality','report_date'])\n",
    ".total_cases.sum()\n",
    ".reset_index()\n",
    ".sort_values('total_cases', ascending=False)).head()"
   ]
  },
  {
   "cell_type": "code",
   "execution_count": 6,
   "id": "congressional-present",
   "metadata": {},
   "outputs": [
    {
     "data": {
      "text/html": [
       "<div>\n",
       "<style scoped>\n",
       "    .dataframe tbody tr th:only-of-type {\n",
       "        vertical-align: middle;\n",
       "    }\n",
       "\n",
       "    .dataframe tbody tr th {\n",
       "        vertical-align: top;\n",
       "    }\n",
       "\n",
       "    .dataframe thead th {\n",
       "        text-align: right;\n",
       "    }\n",
       "</style>\n",
       "<table border=\"1\" class=\"dataframe\">\n",
       "  <thead>\n",
       "    <tr style=\"text-align: right;\">\n",
       "      <th></th>\n",
       "      <th>report_date</th>\n",
       "      <th>fips</th>\n",
       "      <th>locality</th>\n",
       "      <th>vdh_health_district</th>\n",
       "      <th>total_cases</th>\n",
       "      <th>hospitalizations</th>\n",
       "      <th>deaths</th>\n",
       "    </tr>\n",
       "  </thead>\n",
       "  <tbody>\n",
       "    <tr>\n",
       "      <th>61009</th>\n",
       "      <td>2020-03-17</td>\n",
       "      <td>51510</td>\n",
       "      <td>Alexandria</td>\n",
       "      <td>Alexandria</td>\n",
       "      <td>2</td>\n",
       "      <td>0</td>\n",
       "      <td>0</td>\n",
       "    </tr>\n",
       "    <tr>\n",
       "      <th>60876</th>\n",
       "      <td>2020-03-18</td>\n",
       "      <td>51510</td>\n",
       "      <td>Alexandria</td>\n",
       "      <td>Alexandria</td>\n",
       "      <td>2</td>\n",
       "      <td>0</td>\n",
       "      <td>0</td>\n",
       "    </tr>\n",
       "    <tr>\n",
       "      <th>60743</th>\n",
       "      <td>2020-03-19</td>\n",
       "      <td>51510</td>\n",
       "      <td>Alexandria</td>\n",
       "      <td>Alexandria</td>\n",
       "      <td>4</td>\n",
       "      <td>0</td>\n",
       "      <td>0</td>\n",
       "    </tr>\n",
       "    <tr>\n",
       "      <th>60610</th>\n",
       "      <td>2020-03-20</td>\n",
       "      <td>51510</td>\n",
       "      <td>Alexandria</td>\n",
       "      <td>Alexandria</td>\n",
       "      <td>3</td>\n",
       "      <td>0</td>\n",
       "      <td>0</td>\n",
       "    </tr>\n",
       "    <tr>\n",
       "      <th>60477</th>\n",
       "      <td>2020-03-21</td>\n",
       "      <td>51510</td>\n",
       "      <td>Alexandria</td>\n",
       "      <td>Alexandria</td>\n",
       "      <td>5</td>\n",
       "      <td>0</td>\n",
       "      <td>0</td>\n",
       "    </tr>\n",
       "    <tr>\n",
       "      <th>60344</th>\n",
       "      <td>2020-03-22</td>\n",
       "      <td>51510</td>\n",
       "      <td>Alexandria</td>\n",
       "      <td>Alexandria</td>\n",
       "      <td>5</td>\n",
       "      <td>0</td>\n",
       "      <td>0</td>\n",
       "    </tr>\n",
       "    <tr>\n",
       "      <th>60211</th>\n",
       "      <td>2020-03-23</td>\n",
       "      <td>51510</td>\n",
       "      <td>Alexandria</td>\n",
       "      <td>Alexandria</td>\n",
       "      <td>6</td>\n",
       "      <td>0</td>\n",
       "      <td>0</td>\n",
       "    </tr>\n",
       "    <tr>\n",
       "      <th>60078</th>\n",
       "      <td>2020-03-24</td>\n",
       "      <td>51510</td>\n",
       "      <td>Alexandria</td>\n",
       "      <td>Alexandria</td>\n",
       "      <td>8</td>\n",
       "      <td>0</td>\n",
       "      <td>0</td>\n",
       "    </tr>\n",
       "    <tr>\n",
       "      <th>59945</th>\n",
       "      <td>2020-03-25</td>\n",
       "      <td>51510</td>\n",
       "      <td>Alexandria</td>\n",
       "      <td>Alexandria</td>\n",
       "      <td>9</td>\n",
       "      <td>0</td>\n",
       "      <td>0</td>\n",
       "    </tr>\n",
       "    <tr>\n",
       "      <th>59812</th>\n",
       "      <td>2020-03-26</td>\n",
       "      <td>51510</td>\n",
       "      <td>Alexandria</td>\n",
       "      <td>Alexandria</td>\n",
       "      <td>14</td>\n",
       "      <td>0</td>\n",
       "      <td>0</td>\n",
       "    </tr>\n",
       "  </tbody>\n",
       "</table>\n",
       "</div>"
      ],
      "text/plain": [
       "      report_date   fips    locality vdh_health_district total_cases  \\\n",
       "61009  2020-03-17  51510  Alexandria          Alexandria           2   \n",
       "60876  2020-03-18  51510  Alexandria          Alexandria           2   \n",
       "60743  2020-03-19  51510  Alexandria          Alexandria           4   \n",
       "60610  2020-03-20  51510  Alexandria          Alexandria           3   \n",
       "60477  2020-03-21  51510  Alexandria          Alexandria           5   \n",
       "60344  2020-03-22  51510  Alexandria          Alexandria           5   \n",
       "60211  2020-03-23  51510  Alexandria          Alexandria           6   \n",
       "60078  2020-03-24  51510  Alexandria          Alexandria           8   \n",
       "59945  2020-03-25  51510  Alexandria          Alexandria           9   \n",
       "59812  2020-03-26  51510  Alexandria          Alexandria          14   \n",
       "\n",
       "      hospitalizations deaths  \n",
       "61009                0      0  \n",
       "60876                0      0  \n",
       "60743                0      0  \n",
       "60610                0      0  \n",
       "60477                0      0  \n",
       "60344                0      0  \n",
       "60211                0      0  \n",
       "60078                0      0  \n",
       "59945                0      0  \n",
       "59812                0      0  "
      ]
     },
     "execution_count": 6,
     "metadata": {},
     "output_type": "execute_result"
    }
   ],
   "source": [
    "df.sort_values(['vdh_health_district', 'locality','report_date'],\n",
    "              inplace=True,ascending=True)\n",
    "df.head(10)"
   ]
  },
  {
   "cell_type": "code",
   "execution_count": 7,
   "id": "patent-incidence",
   "metadata": {},
   "outputs": [
    {
     "name": "stdout",
     "output_type": "stream",
     "text": [
      "133\n",
      "['Alexandria', 'Alleghany', 'Botetourt', 'Covington', 'Craig', 'Roanoke County', 'Salem', 'Arlington', 'Albemarle', 'Charlottesville', 'Fluvanna', 'Greene', 'Louisa', 'Nelson', 'Augusta', 'Bath', 'Buena Vista City', 'Harrisonburg', 'Highland', 'Lexington', 'Rockbridge', 'Rockingham', 'Staunton', 'Waynesboro', 'Amherst', 'Appomattox', 'Bedford', 'Campbell', 'Lynchburg', 'Chesapeake', 'Chesterfield', 'Colonial Heights', 'Powhatan', 'Charles City', 'Goochland', 'Hanover', 'New Kent', 'Dinwiddie', 'Emporia', 'Greensville', 'Hopewell', 'Petersburg', 'Prince George', 'Surry', 'Sussex', 'Buchanan', 'Dickenson', 'Russell', 'Tazewell', 'Accomack', 'Northampton', 'Fairfax', 'Fairfax City', 'Falls Church', 'Hampton', 'Henrico', 'Lee', 'Norton', 'Scott', 'Wise', 'Clarke', 'Frederick', 'Page', 'Shenandoah', 'Warren', 'Winchester', 'Loudoun', 'Bland', 'Bristol', 'Carroll', 'Galax', 'Grayson', 'Smyth', 'Washington', 'Wythe', 'Floyd', 'Giles', 'Montgomery', 'Pulaski', 'Radford', 'Norfolk', 'James City', 'Newport News', 'Poquoson', 'Williamsburg', 'York', 'Amelia', 'Buckingham', 'Charlotte', 'Cumberland', 'Lunenburg', 'Nottoway', 'Prince Edward', 'Danville', 'Pittsylvania', 'Portsmouth', 'Manassas City', 'Manassas Park', 'Prince William', 'Caroline', 'Fredericksburg', 'King George', 'Spotsylvania', 'Stafford', 'Culpeper', 'Fauquier', 'Madison', 'Orange', 'Rappahannock', 'Richmond City', 'Roanoke City', 'Brunswick', 'Halifax', 'Mecklenburg', 'Essex', 'Gloucester', 'King William', 'King and Queen', 'Lancaster', 'Mathews', 'Middlesex', 'Northumberland', 'Richmond County', 'Westmoreland', 'Virginia Beach', 'Franklin County', 'Henry', 'Martinsville', 'Patrick', 'Franklin City', 'Isle of Wight', 'Southampton', 'Suffolk']\n"
     ]
    }
   ],
   "source": [
    "county_list = list(pd.unique(df.locality.values))\n",
    "print(len(county_list))\n",
    "print(county_list)"
   ]
  },
  {
   "cell_type": "code",
   "execution_count": 8,
   "id": "optional-reunion",
   "metadata": {},
   "outputs": [
    {
     "name": "stdout",
     "output_type": "stream",
     "text": [
      "36\n",
      "['Alexandria', 'Alleghany', 'Arlington', 'Blue Ridge', 'Central Shenandoah', 'Central Virginia', 'Chesapeake', 'Chesterfield', 'Chickahominy', 'Crater', 'Cumberland Plateau', 'Eastern Shore', 'Fairfax', 'Hampton', 'Henrico', 'Lenowisco', 'Lord Fairfax', 'Loudoun', 'Mount Rogers', 'New River', 'Norfolk', 'Peninsula', 'Piedmont', 'Pittsylvania-Danville', 'Portsmouth', 'Prince William', 'Rappahannock', 'Rappahannock Rapidan', 'Richmond', 'Roanoke', 'Southside', 'Thomas Jefferson', 'Three Rivers', 'Virginia Beach', 'West Piedmont', 'Western Tidewater']\n"
     ]
    }
   ],
   "source": [
    "district_list = list(pd.unique(df.vdh_health_district.values))\n",
    "print(len(district_list))\n",
    "print(district_list)"
   ]
  },
  {
   "cell_type": "code",
   "execution_count": 9,
   "id": "stable-royal",
   "metadata": {},
   "outputs": [],
   "source": [
    "# VDH rename Thomas Jefferson district to Blue Ridge\n",
    "df.replace({'vdh_health_district':\"Thomas Jefferson\"}, \"Blue Ridge\", inplace=True)"
   ]
  },
  {
   "cell_type": "code",
   "execution_count": 10,
   "id": "contained-context",
   "metadata": {},
   "outputs": [
    {
     "name": "stdout",
     "output_type": "stream",
     "text": [
      "35\n"
     ]
    }
   ],
   "source": [
    "district_list = list(pd.unique(df.vdh_health_district.values))\n",
    "print(len(district_list))"
   ]
  },
  {
   "cell_type": "code",
   "execution_count": 18,
   "id": "effective-python",
   "metadata": {},
   "outputs": [],
   "source": [
    "# cumulative counts\n",
    "cumulative_df = (df\n",
    ".groupby(['report_date'])\n",
    "['total_cases','hospitalizations','deaths'].sum()\n",
    ".reset_index()\n",
    ".sort_values('total_cases', ascending=False))"
   ]
  },
  {
   "cell_type": "code",
   "execution_count": 19,
   "id": "promotional-battery",
   "metadata": {},
   "outputs": [
    {
     "data": {
      "text/html": [
       "<div>\n",
       "<style scoped>\n",
       "    .dataframe tbody tr th:only-of-type {\n",
       "        vertical-align: middle;\n",
       "    }\n",
       "\n",
       "    .dataframe tbody tr th {\n",
       "        vertical-align: top;\n",
       "    }\n",
       "\n",
       "    .dataframe thead th {\n",
       "        text-align: right;\n",
       "    }\n",
       "</style>\n",
       "<table border=\"1\" class=\"dataframe\">\n",
       "  <thead>\n",
       "    <tr style=\"text-align: right;\">\n",
       "      <th></th>\n",
       "      <th>report_date</th>\n",
       "      <th>total_cases</th>\n",
       "      <th>hospitalizations</th>\n",
       "      <th>deaths</th>\n",
       "    </tr>\n",
       "  </thead>\n",
       "  <tbody>\n",
       "    <tr>\n",
       "      <th>458</th>\n",
       "      <td>2021-06-18</td>\n",
       "      <td>678506</td>\n",
       "      <td>30291</td>\n",
       "      <td>11342</td>\n",
       "    </tr>\n",
       "    <tr>\n",
       "      <th>457</th>\n",
       "      <td>2021-06-17</td>\n",
       "      <td>678392</td>\n",
       "      <td>30263</td>\n",
       "      <td>11336</td>\n",
       "    </tr>\n",
       "    <tr>\n",
       "      <th>456</th>\n",
       "      <td>2021-06-16</td>\n",
       "      <td>678226</td>\n",
       "      <td>30241</td>\n",
       "      <td>11330</td>\n",
       "    </tr>\n",
       "    <tr>\n",
       "      <th>455</th>\n",
       "      <td>2021-06-15</td>\n",
       "      <td>677949</td>\n",
       "      <td>30208</td>\n",
       "      <td>11328</td>\n",
       "    </tr>\n",
       "    <tr>\n",
       "      <th>454</th>\n",
       "      <td>2021-06-14</td>\n",
       "      <td>677812</td>\n",
       "      <td>30182</td>\n",
       "      <td>11318</td>\n",
       "    </tr>\n",
       "  </tbody>\n",
       "</table>\n",
       "</div>"
      ],
      "text/plain": [
       "    report_date  total_cases  hospitalizations  deaths\n",
       "458  2021-06-18       678506             30291   11342\n",
       "457  2021-06-17       678392             30263   11336\n",
       "456  2021-06-16       678226             30241   11330\n",
       "455  2021-06-15       677949             30208   11328\n",
       "454  2021-06-14       677812             30182   11318"
      ]
     },
     "execution_count": 19,
     "metadata": {},
     "output_type": "execute_result"
    }
   ],
   "source": [
    "cumulative_df.head()"
   ]
  },
  {
   "cell_type": "code",
   "execution_count": 20,
   "id": "needed-nickname",
   "metadata": {},
   "outputs": [
    {
     "data": {
      "image/png": "[encoded data removed]",
      "text/plain": [
       "<Figure size 432x288 with 1 Axes>"
      ]
     },
     "metadata": {
      "needs_background": "light"
     },
     "output_type": "display_data"
    }
   ],
   "source": [
    "import matplotlib.pyplot as plt\n",
    "plt.plot(cumulative_df.report_date,cumulative_df.total_cases, label='cases')\n",
    "plt.plot(cumulative_df.report_date,cumulative_df.hospitalizations, label='hospitalizations')\n",
    "plt.plot(cumulative_df.report_date,cumulative_df.deaths, label='deaths')\n",
    "plt.legend();"
   ]
  },
  {
   "cell_type": "code",
   "execution_count": 21,
   "id": "unavailable-rating",
   "metadata": {},
   "outputs": [
    {
     "name": "stdout",
     "output_type": "stream",
     "text": [
      "total cases:  678506\n",
      "total hospitalizations:  30291\n",
      "total deaths:  11342\n"
     ]
    }
   ],
   "source": [
    "print('total cases: ', cumulative_df.total_cases.max())\n",
    "print('total hospitalizations: ', cumulative_df.hospitalizations.max())\n",
    "print('total deaths: ', cumulative_df.deaths.max())"
   ]
  },
  {
   "cell_type": "code",
   "execution_count": 23,
   "id": "integrated-tamil",
   "metadata": {},
   "outputs": [
    {
     "name": "stdout",
     "output_type": "stream",
     "text": [
      "['51510' '51005' '51023' '51580' '51045' '51161' '51775' '51013' '51003'\n",
      " '51540' '51065' '51079' '51109' '51125' '51015' '51017' '51530' '51660'\n",
      " '51091' '51678' '51163' '51165' '51790' '51820' '51009' '51011' '51019'\n",
      " '51031' '51680' '51550' '51041' '51570' '51145' '51036' '51075' '51085'\n",
      " '51127' '51053' '51595' '51081' '51670' '51730' '51149' '51181' '51183'\n",
      " '51027' '51051' '51167' '51185' '51001' '51131' '51059' '51600' '51610'\n",
      " '51650' '51087' '51105' '51720' '51169' '51195' '51043' '51069' '51139'\n",
      " '51171' '51187' '51840' '51107' '51021' '51520' '51035' '51640' '51077'\n",
      " '51173' '51191' '51197' '51063' '51071' '51121' '51155' '51750' '51710'\n",
      " '51095' '51700' '51735' '51830' '51199' '51007' '51029' '51037' '51049'\n",
      " '51111' '51135' '51147' '51590' '51143' '51740' '51683' '51685' '51153'\n",
      " '51033' '51630' '51099' '51177' '51179' '51047' '51061' '51113' '51137'\n",
      " '51157' '51760' '51770' '51025' '51083' '51117' '51057' '51073' '51101'\n",
      " '51097' '51103' '51115' '51119' '51133' '51159' '51193' '51810' '51067'\n",
      " '51089' '51690' '51141' '51620' '51093' '51175' '51800']\n"
     ]
    }
   ],
   "source": [
    "print(pd.unique(df.fips.values))"
   ]
  },
  {
   "cell_type": "code",
   "execution_count": 24,
   "id": "partial-month",
   "metadata": {},
   "outputs": [],
   "source": [
    "df[['prev_date','prev_total_cases','prev_hospitalization','prev_death']] = (df\n",
    "                                                                            .groupby(['vdh_health_district','locality'])\\\n",
    "                                                                            ['report_date','total_cases','hospitalizations','deaths']\n",
    "                                                                            .apply(lambda grp: grp.shift(1)))"
   ]
  },
  {
   "cell_type": "code",
   "execution_count": 25,
   "id": "unknown-publication",
   "metadata": {},
   "outputs": [],
   "source": [
    "df.fillna(0, inplace=True)"
   ]
  },
  {
   "cell_type": "code",
   "execution_count": 26,
   "id": "preliminary-consequence",
   "metadata": {},
   "outputs": [],
   "source": [
    "def get_case_count(row):\n",
    "    counter = (row['total_cases'] - row['prev_total_cases'])\n",
    "    if counter < 0:\n",
    "        return 0\n",
    "    return counter\n",
    "def get_hos_count(row):\n",
    "    counter = (row['hospitalizations'] - row['prev_hospitalization'])\n",
    "    if counter < 0:\n",
    "        return 0\n",
    "    return counter\n",
    "def get_death_count(row):\n",
    "    counter = (row['deaths'] - row['prev_death'])\n",
    "    if counter < 0:\n",
    "        return 0\n",
    "    return counter\n",
    "\n",
    "df['new_case'] = df.apply(lambda row: get_case_count(row), axis=1 )\n",
    "df['new_hospitalization'] = df.apply(lambda row: get_hos_count(row), axis=1 )\n",
    "df['new_death'] = df.apply(lambda row: get_death_count(row), axis=1 )"
   ]
  },
  {
   "cell_type": "code",
   "execution_count": 27,
   "id": "built-approval",
   "metadata": {},
   "outputs": [
    {
     "data": {
      "text/html": [
       "<div>\n",
       "<style scoped>\n",
       "    .dataframe tbody tr th:only-of-type {\n",
       "        vertical-align: middle;\n",
       "    }\n",
       "\n",
       "    .dataframe tbody tr th {\n",
       "        vertical-align: top;\n",
       "    }\n",
       "\n",
       "    .dataframe thead th {\n",
       "        text-align: right;\n",
       "    }\n",
       "</style>\n",
       "<table border=\"1\" class=\"dataframe\">\n",
       "  <thead>\n",
       "    <tr style=\"text-align: right;\">\n",
       "      <th></th>\n",
       "      <th>report_date</th>\n",
       "      <th>fips</th>\n",
       "      <th>locality</th>\n",
       "      <th>vdh_health_district</th>\n",
       "      <th>total_cases</th>\n",
       "      <th>hospitalizations</th>\n",
       "      <th>deaths</th>\n",
       "      <th>prev_date</th>\n",
       "      <th>prev_total_cases</th>\n",
       "      <th>prev_hospitalization</th>\n",
       "      <th>prev_death</th>\n",
       "      <th>new_case</th>\n",
       "      <th>new_hospitalization</th>\n",
       "      <th>new_death</th>\n",
       "    </tr>\n",
       "  </thead>\n",
       "  <tbody>\n",
       "    <tr>\n",
       "      <th>61009</th>\n",
       "      <td>2020-03-17</td>\n",
       "      <td>51510</td>\n",
       "      <td>Alexandria</td>\n",
       "      <td>Alexandria</td>\n",
       "      <td>2</td>\n",
       "      <td>0</td>\n",
       "      <td>0</td>\n",
       "      <td>0</td>\n",
       "      <td>0.0</td>\n",
       "      <td>0.0</td>\n",
       "      <td>0.0</td>\n",
       "      <td>2.0</td>\n",
       "      <td>0.0</td>\n",
       "      <td>0.0</td>\n",
       "    </tr>\n",
       "    <tr>\n",
       "      <th>60876</th>\n",
       "      <td>2020-03-18</td>\n",
       "      <td>51510</td>\n",
       "      <td>Alexandria</td>\n",
       "      <td>Alexandria</td>\n",
       "      <td>2</td>\n",
       "      <td>0</td>\n",
       "      <td>0</td>\n",
       "      <td>2020-03-17 00:00:00</td>\n",
       "      <td>2.0</td>\n",
       "      <td>0.0</td>\n",
       "      <td>0.0</td>\n",
       "      <td>0.0</td>\n",
       "      <td>0.0</td>\n",
       "      <td>0.0</td>\n",
       "    </tr>\n",
       "    <tr>\n",
       "      <th>60743</th>\n",
       "      <td>2020-03-19</td>\n",
       "      <td>51510</td>\n",
       "      <td>Alexandria</td>\n",
       "      <td>Alexandria</td>\n",
       "      <td>4</td>\n",
       "      <td>0</td>\n",
       "      <td>0</td>\n",
       "      <td>2020-03-18 00:00:00</td>\n",
       "      <td>2.0</td>\n",
       "      <td>0.0</td>\n",
       "      <td>0.0</td>\n",
       "      <td>2.0</td>\n",
       "      <td>0.0</td>\n",
       "      <td>0.0</td>\n",
       "    </tr>\n",
       "    <tr>\n",
       "      <th>60610</th>\n",
       "      <td>2020-03-20</td>\n",
       "      <td>51510</td>\n",
       "      <td>Alexandria</td>\n",
       "      <td>Alexandria</td>\n",
       "      <td>3</td>\n",
       "      <td>0</td>\n",
       "      <td>0</td>\n",
       "      <td>2020-03-19 00:00:00</td>\n",
       "      <td>4.0</td>\n",
       "      <td>0.0</td>\n",
       "      <td>0.0</td>\n",
       "      <td>0.0</td>\n",
       "      <td>0.0</td>\n",
       "      <td>0.0</td>\n",
       "    </tr>\n",
       "    <tr>\n",
       "      <th>60477</th>\n",
       "      <td>2020-03-21</td>\n",
       "      <td>51510</td>\n",
       "      <td>Alexandria</td>\n",
       "      <td>Alexandria</td>\n",
       "      <td>5</td>\n",
       "      <td>0</td>\n",
       "      <td>0</td>\n",
       "      <td>2020-03-20 00:00:00</td>\n",
       "      <td>3.0</td>\n",
       "      <td>0.0</td>\n",
       "      <td>0.0</td>\n",
       "      <td>2.0</td>\n",
       "      <td>0.0</td>\n",
       "      <td>0.0</td>\n",
       "    </tr>\n",
       "  </tbody>\n",
       "</table>\n",
       "</div>"
      ],
      "text/plain": [
       "      report_date   fips    locality vdh_health_district  total_cases  \\\n",
       "61009  2020-03-17  51510  Alexandria          Alexandria            2   \n",
       "60876  2020-03-18  51510  Alexandria          Alexandria            2   \n",
       "60743  2020-03-19  51510  Alexandria          Alexandria            4   \n",
       "60610  2020-03-20  51510  Alexandria          Alexandria            3   \n",
       "60477  2020-03-21  51510  Alexandria          Alexandria            5   \n",
       "\n",
       "       hospitalizations  deaths            prev_date  prev_total_cases  \\\n",
       "61009                 0       0                    0               0.0   \n",
       "60876                 0       0  2020-03-17 00:00:00               2.0   \n",
       "60743                 0       0  2020-03-18 00:00:00               2.0   \n",
       "60610                 0       0  2020-03-19 00:00:00               4.0   \n",
       "60477                 0       0  2020-03-20 00:00:00               3.0   \n",
       "\n",
       "       prev_hospitalization  prev_death  new_case  new_hospitalization  \\\n",
       "61009                   0.0         0.0       2.0                  0.0   \n",
       "60876                   0.0         0.0       0.0                  0.0   \n",
       "60743                   0.0         0.0       2.0                  0.0   \n",
       "60610                   0.0         0.0       0.0                  0.0   \n",
       "60477                   0.0         0.0       2.0                  0.0   \n",
       "\n",
       "       new_death  \n",
       "61009        0.0  \n",
       "60876        0.0  \n",
       "60743        0.0  \n",
       "60610        0.0  \n",
       "60477        0.0  "
      ]
     },
     "execution_count": 27,
     "metadata": {},
     "output_type": "execute_result"
    }
   ],
   "source": [
    "df.head()"
   ]
  },
  {
   "cell_type": "code",
   "execution_count": 29,
   "id": "younger-brother",
   "metadata": {},
   "outputs": [],
   "source": [
    "va_daily_count = df.groupby(\"report_date\")['new_case','new_hospitalization','new_death'].sum().reset_index()"
   ]
  },
  {
   "cell_type": "code",
   "execution_count": 31,
   "id": "divine-nightlife",
   "metadata": {},
   "outputs": [
    {
     "data": {
      "text/plain": [
       "<matplotlib.legend.Legend at 0x7f95565183a0>"
      ]
     },
     "execution_count": 31,
     "metadata": {},
     "output_type": "execute_result"
    },
    {
     "data": {
      "image/png": "[encoded data removed]",
      "text/plain": [
       "<Figure size 432x288 with 1 Axes>"
      ]
     },
     "metadata": {
      "needs_background": "light"
     },
     "output_type": "display_data"
    }
   ],
   "source": [
    "plt.plot(va_daily_count.report_date, va_daily_count.new_case, label='case')\n",
    "plt.plot(va_daily_count.report_date, va_daily_count.new_hospitalization, label='hospitalization')\n",
    "plt.plot(va_daily_count.report_date, va_daily_count.new_death, label='death')\n",
    "plt.legend();"
   ]
  },
  {
   "cell_type": "code",
   "execution_count": 32,
   "id": "stainless-smile",
   "metadata": {},
   "outputs": [
    {
     "data": {
      "image/png": "[encoded data removed]",
      "text/plain": [
       "<Figure size 432x288 with 1 Axes>"
      ]
     },
     "metadata": {
      "needs_background": "light"
     },
     "output_type": "display_data"
    }
   ],
   "source": [
    "plt.plot(va_daily_count.report_date, va_daily_count.new_hospitalization, label='hospitalization')\n",
    "plt.plot(va_daily_count.report_date, va_daily_count.new_death, label='death')\n",
    "plt.legend();"
   ]
  },
  {
   "cell_type": "markdown",
   "id": "handy-basement",
   "metadata": {},
   "source": [
    "## 2. COVID-19 Vaccines"
   ]
  },
  {
   "cell_type": "code",
   "execution_count": 33,
   "id": "satisfactory-collectible",
   "metadata": {},
   "outputs": [
    {
     "data": {
      "text/html": [
       "<div>\n",
       "<style scoped>\n",
       "    .dataframe tbody tr th:only-of-type {\n",
       "        vertical-align: middle;\n",
       "    }\n",
       "\n",
       "    .dataframe tbody tr th {\n",
       "        vertical-align: top;\n",
       "    }\n",
       "\n",
       "    .dataframe thead th {\n",
       "        text-align: right;\n",
       "    }\n",
       "</style>\n",
       "<table border=\"1\" class=\"dataframe\">\n",
       "  <thead>\n",
       "    <tr style=\"text-align: right;\">\n",
       "      <th></th>\n",
       "      <th>administration_date</th>\n",
       "      <th>fips</th>\n",
       "      <th>locality</th>\n",
       "      <th>health_district</th>\n",
       "      <th>facility_type</th>\n",
       "      <th>vaccine_manufacturer</th>\n",
       "      <th>dose_number</th>\n",
       "      <th>vaccine_doses_administered</th>\n",
       "    </tr>\n",
       "  </thead>\n",
       "  <tbody>\n",
       "    <tr>\n",
       "      <th>0</th>\n",
       "      <td>2021-06-17T00:00:00.000</td>\n",
       "      <td>51001</td>\n",
       "      <td>Accomack</td>\n",
       "      <td>Eastern Shore</td>\n",
       "      <td>Other Community Health Providers</td>\n",
       "      <td>Pfizer</td>\n",
       "      <td>2</td>\n",
       "      <td>4</td>\n",
       "    </tr>\n",
       "    <tr>\n",
       "      <th>1</th>\n",
       "      <td>2021-06-17T00:00:00.000</td>\n",
       "      <td>51001</td>\n",
       "      <td>Accomack</td>\n",
       "      <td>Eastern Shore</td>\n",
       "      <td>Medical Practices</td>\n",
       "      <td>Moderna</td>\n",
       "      <td>2</td>\n",
       "      <td>6</td>\n",
       "    </tr>\n",
       "    <tr>\n",
       "      <th>2</th>\n",
       "      <td>2021-06-17T00:00:00.000</td>\n",
       "      <td>51001</td>\n",
       "      <td>Accomack</td>\n",
       "      <td>Eastern Shore</td>\n",
       "      <td>Pharmacies</td>\n",
       "      <td>Moderna</td>\n",
       "      <td>1</td>\n",
       "      <td>3</td>\n",
       "    </tr>\n",
       "    <tr>\n",
       "      <th>3</th>\n",
       "      <td>2021-06-17T00:00:00.000</td>\n",
       "      <td>51001</td>\n",
       "      <td>Accomack</td>\n",
       "      <td>Eastern Shore</td>\n",
       "      <td>Other Community Health Providers</td>\n",
       "      <td>Pfizer</td>\n",
       "      <td>1</td>\n",
       "      <td>6</td>\n",
       "    </tr>\n",
       "    <tr>\n",
       "      <th>4</th>\n",
       "      <td>2021-06-17T00:00:00.000</td>\n",
       "      <td>51001</td>\n",
       "      <td>Accomack</td>\n",
       "      <td>Eastern Shore</td>\n",
       "      <td>Medical Practices</td>\n",
       "      <td>Moderna</td>\n",
       "      <td>1</td>\n",
       "      <td>2</td>\n",
       "    </tr>\n",
       "  </tbody>\n",
       "</table>\n",
       "</div>"
      ],
      "text/plain": [
       "       administration_date   fips  locality health_district  \\\n",
       "0  2021-06-17T00:00:00.000  51001  Accomack   Eastern Shore   \n",
       "1  2021-06-17T00:00:00.000  51001  Accomack   Eastern Shore   \n",
       "2  2021-06-17T00:00:00.000  51001  Accomack   Eastern Shore   \n",
       "3  2021-06-17T00:00:00.000  51001  Accomack   Eastern Shore   \n",
       "4  2021-06-17T00:00:00.000  51001  Accomack   Eastern Shore   \n",
       "\n",
       "                      facility_type vaccine_manufacturer dose_number  \\\n",
       "0  Other Community Health Providers               Pfizer           2   \n",
       "1                 Medical Practices              Moderna           2   \n",
       "2                        Pharmacies              Moderna           1   \n",
       "3  Other Community Health Providers               Pfizer           1   \n",
       "4                 Medical Practices              Moderna           1   \n",
       "\n",
       "  vaccine_doses_administered  \n",
       "0                          4  \n",
       "1                          6  \n",
       "2                          3  \n",
       "3                          6  \n",
       "4                          2  "
      ]
     },
     "execution_count": 33,
     "metadata": {},
     "output_type": "execute_result"
    }
   ],
   "source": [
    "df = pd.read_sql('SELECT * FROM vaccine_data;',engine)\n",
    "df.head()"
   ]
  },
  {
   "cell_type": "code",
   "execution_count": 34,
   "id": "sonic-provision",
   "metadata": {},
   "outputs": [
    {
     "name": "stdout",
     "output_type": "stream",
     "text": [
      "<class 'pandas.core.frame.DataFrame'>\n",
      "RangeIndex: 259100 entries, 0 to 259099\n",
      "Data columns (total 8 columns):\n",
      " #   Column                      Non-Null Count   Dtype \n",
      "---  ------                      --------------   ----- \n",
      " 0   administration_date         259098 non-null  object\n",
      " 1   fips                        259100 non-null  object\n",
      " 2   locality                    259100 non-null  object\n",
      " 3   health_district             259100 non-null  object\n",
      " 4   facility_type               259100 non-null  object\n",
      " 5   vaccine_manufacturer        259100 non-null  object\n",
      " 6   dose_number                 259100 non-null  object\n",
      " 7   vaccine_doses_administered  259100 non-null  object\n",
      "dtypes: object(8)\n",
      "memory usage: 15.8+ MB\n"
     ]
    }
   ],
   "source": [
    "df.info()"
   ]
  },
  {
   "cell_type": "code",
   "execution_count": 35,
   "id": "derived-thermal",
   "metadata": {},
   "outputs": [],
   "source": [
    "df['administration_date'] = pd.to_datetime(df.administration_date)\n",
    "df['vaccine_doses_administered'] = df.vaccine_doses_administered.astype(int)"
   ]
  },
  {
   "cell_type": "code",
   "execution_count": 36,
   "id": "editorial-azerbaijan",
   "metadata": {},
   "outputs": [
    {
     "name": "stdout",
     "output_type": "stream",
     "text": [
      "['51001' '51003' '51005' '51007' '51009' '51011' '51013' '51015' '51017'\n",
      " '51019' '51021' '51023' '51025' '51027' '51029' '51031' '51033' '51035'\n",
      " '51036' '51037' '51041' '51043' '51045' '51047' '51049' '51051' '51053'\n",
      " '51057' '51059' '51061' '51063' '51065' '51067' '51069' '51071' '51073'\n",
      " '51075' '51077' '51079' '51081' '51083' '51085' '51087' '51089' '51093'\n",
      " '51095' '51097' '51099' '51101' '51105' '51107' '51109' '51111' '51113'\n",
      " '51115' '51117' '51119' '51121' '51125' '51127' '51131' '51133' '51135'\n",
      " '51137' '51139' '51141' '51143' '51145' '51147' '51149' '51153' '51155'\n",
      " '51157' '51159' '51161' '51163' '51165' '51167' '51169' '51171' '51173'\n",
      " '51175' '51177' '51179' '51181' '51183' '51185' '51187' '51191' '51193'\n",
      " '51195' '51197' '51199' '51510' '51520' '51530' '51540' '51550' '51570'\n",
      " '51580' '51590' '51595' '51600' '51610' '51620' '51630' '51640' '51650'\n",
      " '51660' '51670' '51678' '51680' '51683' '51685' '51690' '51700' '51710'\n",
      " '51730' '51735' '51740' '51750' '51760' '51770' '51775' '51790' '51800'\n",
      " '51810' '51820' '51830' '51840' 'Not Reported' 'Out of State' '51091'\n",
      " '51103' '51720']\n"
     ]
    }
   ],
   "source": [
    "print(pd.unique(df.fips.values))"
   ]
  },
  {
   "cell_type": "code",
   "execution_count": 37,
   "id": "filled-blair",
   "metadata": {},
   "outputs": [
    {
     "name": "stdout",
     "output_type": "stream",
     "text": [
      "['Eastern Shore' 'Blue Ridge' 'Alleghany' 'Piedmont' 'Central Virginia'\n",
      " 'Arlington' 'Central Shenandoah' 'Mount Rogers' 'Southside'\n",
      " 'Cumberland Plateau' 'Rappahannock' 'Chickahominy' 'Chesterfield'\n",
      " 'Lord Fairfax' 'Rappahannock Rapidan' 'Crater' 'Three Rivers' 'Fairfax'\n",
      " 'New River' 'West Piedmont' 'Henrico' 'Western Tidewater' 'Peninsula'\n",
      " 'Lenowisco' 'Loudoun' 'Pittsylvania-Danville' 'Prince William'\n",
      " 'Alexandria' 'Chesapeake' 'Hampton' 'Norfolk' 'Portsmouth' 'Richmond'\n",
      " 'Roanoke' 'Virginia Beach' 'Not Reported' 'Out of State']\n"
     ]
    }
   ],
   "source": [
    "print(pd.unique(df.health_district.values))"
   ]
  },
  {
   "cell_type": "code",
   "execution_count": 38,
   "id": "yellow-prague",
   "metadata": {},
   "outputs": [
    {
     "name": "stdout",
     "output_type": "stream",
     "text": [
      "['Other Community Health Providers' 'Medical Practices' 'Pharmacies'\n",
      " 'Local Health Departments' 'Hospitals' 'Federal Doses']\n"
     ]
    }
   ],
   "source": [
    "print(pd.unique(df.facility_type.values))"
   ]
  },
  {
   "cell_type": "code",
   "execution_count": 39,
   "id": "welcome-matter",
   "metadata": {},
   "outputs": [
    {
     "name": "stdout",
     "output_type": "stream",
     "text": [
      "['2' '1']\n"
     ]
    }
   ],
   "source": [
    "print(pd.unique(df.dose_number.values))"
   ]
  },
  {
   "cell_type": "code",
   "execution_count": 40,
   "id": "dietary-establishment",
   "metadata": {},
   "outputs": [
    {
     "name": "stdout",
     "output_type": "stream",
     "text": [
      "['Pfizer' 'Moderna' 'J&J' 'Non-Specified']\n"
     ]
    }
   ],
   "source": [
    "print(pd.unique(df.vaccine_manufacturer.values))"
   ]
  },
  {
   "cell_type": "code",
   "execution_count": 73,
   "id": "unnecessary-renewal",
   "metadata": {},
   "outputs": [
    {
     "name": "stdout",
     "output_type": "stream",
     "text": [
      "total_doses:  8782457\n",
      "at least one dose:  4910407\n",
      "two doses:  3872050\n",
      "fully vaccinated:  4167519\n"
     ]
    }
   ],
   "source": [
    "print(\"total_doses: \", df.vaccine_doses_administered.sum())\n",
    "print(\"at least one dose: \", df[df.dose_number =='1'].vaccine_doses_administered.sum())\n",
    "print(\"two doses: \", df[df.dose_number =='2'].vaccine_doses_administered.sum())\n",
    "print(\"fully vaccinated: \", df[df.dose_number =='2'].vaccine_doses_administered.sum()+df[(df.dose_number =='1') & (df.vaccine_manufacturer =='J&J')].vaccine_doses_administered.sum())"
   ]
  },
  {
   "cell_type": "code",
   "execution_count": null,
   "id": "tribal-texture",
   "metadata": {},
   "outputs": [],
   "source": [
    "#problems:\n",
    "#1. Federal doses - district, manufacturer not specified\n",
    "#2. Not reported, out of state"
   ]
  },
  {
   "cell_type": "code",
   "execution_count": 60,
   "id": "ranging-vacation",
   "metadata": {},
   "outputs": [],
   "source": [
    "total_dose = df.groupby(\"administration_date\")['vaccine_doses_administered'].sum().reset_index()\n",
    "first_dose = df[df.dose_number =='1'].groupby(\"administration_date\")['vaccine_doses_administered'].sum().reset_index()\n",
    "two_dose = df[df.dose_number =='2'].groupby(\"administration_date\")['vaccine_doses_administered'].sum().reset_index()"
   ]
  },
  {
   "cell_type": "code",
   "execution_count": 64,
   "id": "golden-diesel",
   "metadata": {},
   "outputs": [
    {
     "data": {
      "image/png": "[encoded data removed]",
      "text/plain": [
       "<Figure size 432x288 with 1 Axes>"
      ]
     },
     "metadata": {
      "needs_background": "light"
     },
     "output_type": "display_data"
    }
   ],
   "source": [
    "plt.plot(total_dose.administration_date, total_dose.vaccine_doses_administered, label='total')\n",
    "plt.plot(first_dose.administration_date, first_dose.vaccine_doses_administered, label='first')\n",
    "plt.plot(two_dose.administration_date, two_dose.vaccine_doses_administered, label='two')\n",
    "plt.legend();"
   ]
  },
  {
   "cell_type": "code",
   "execution_count": 71,
   "id": "former-stroke",
   "metadata": {},
   "outputs": [
    {
     "data": {
      "text/plain": [
       "<AxesSubplot:xlabel='vaccine_manufacturer', ylabel='count'>"
      ]
     },
     "execution_count": 71,
     "metadata": {},
     "output_type": "execute_result"
    },
    {
     "data": {
      "image/png": "[encoded data removed]",
      "text/plain": [
       "<Figure size 432x288 with 1 Axes>"
      ]
     },
     "metadata": {
      "needs_background": "light"
     },
     "output_type": "display_data"
    }
   ],
   "source": [
    "import seaborn as sns\n",
    "sns.countplot(df.vaccine_manufacturer, hue=df.dose_number)"
   ]
  },
  {
   "cell_type": "code",
   "execution_count": 79,
   "id": "occupational-catholic",
   "metadata": {},
   "outputs": [
    {
     "data": {
      "image/png": "[encoded data removed]",
      "text/plain": [
       "<Figure size 432x288 with 1 Axes>"
      ]
     },
     "metadata": {
      "needs_background": "light"
     },
     "output_type": "display_data"
    }
   ],
   "source": [
    "sns.countplot(df.facility_type, hue=df.vaccine_manufacturer)\n",
    "plt.xticks(rotation=80);"
   ]
  },
  {
   "cell_type": "code",
   "execution_count": null,
   "id": "protecting-complexity",
   "metadata": {},
   "outputs": [],
   "source": []
  }
 ],
 "metadata": {
  "kernelspec": {
   "display_name": "Python [conda env:root]",
   "language": "python",
   "name": "conda-root-py"
  },
  "language_info": {
   "codemirror_mode": {
    "name": "ipython",
    "version": 3
   },
   "file_extension": ".py",
   "mimetype": "text/x-python",
   "name": "python",
   "nbconvert_exporter": "python",
   "pygments_lexer": "ipython3",
   "version": "3.8.2"
  }
 },
 "nbformat": 4,
 "nbformat_minor": 5
}
