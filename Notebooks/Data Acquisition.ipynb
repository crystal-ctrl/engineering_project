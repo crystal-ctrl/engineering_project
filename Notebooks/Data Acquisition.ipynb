{
 "cells": [
  {
   "cell_type": "code",
   "execution_count": 1,
   "id": "spiritual-hygiene",
   "metadata": {},
   "outputs": [],
   "source": [
    "#!/usr/bin/env python\n",
    "\n",
    "# make sure to install these packages before running:\n",
    "# pip install pandas\n",
    "# pip install sodapy\n",
    "\n",
    "import pandas as pd\n",
    "from sodapy import Socrata\n",
    "\n",
    "# Unauthenticated client only works with public data sets. Note 'None'\n",
    "# in place of application token, and no username or password:\n",
    "# client = Socrata(\"data.virginia.gov\", None)\n",
    "\n",
    "# Example authenticated client (needed for non-public datasets):\n",
    "client = Socrata(\"data.virginia.gov\",\n",
    "                 \"NngCh4cIYdkg2eNP2DqZs1iAq\",\n",
    "                 username=\"chiting1013@gmail.com\",\n",
    "                 password=\"W4eK8vAE8MkevAp\")"
   ]
  },
  {
   "cell_type": "code",
   "execution_count": 2,
   "id": "japanese-motor",
   "metadata": {},
   "outputs": [],
   "source": [
    "# First 2000 results, returned as JSON from API / converted to Python list of\n",
    "# dictionaries by sodapy.\n",
    "results = client.get(\"bre9-aqqr\", limit=100000)\n",
    "\n",
    "# Convert to pandas DataFrame\n",
    "results_df = pd.DataFrame.from_records(results)"
   ]
  },
  {
   "cell_type": "code",
   "execution_count": 3,
   "id": "wooden-theory",
   "metadata": {},
   "outputs": [
    {
     "data": {
      "text/html": [
       "<div>\n",
       "<style scoped>\n",
       "    .dataframe tbody tr th:only-of-type {\n",
       "        vertical-align: middle;\n",
       "    }\n",
       "\n",
       "    .dataframe tbody tr th {\n",
       "        vertical-align: top;\n",
       "    }\n",
       "\n",
       "    .dataframe thead th {\n",
       "        text-align: right;\n",
       "    }\n",
       "</style>\n",
       "<table border=\"1\" class=\"dataframe\">\n",
       "  <thead>\n",
       "    <tr style=\"text-align: right;\">\n",
       "      <th></th>\n",
       "      <th>report_date</th>\n",
       "      <th>fips</th>\n",
       "      <th>locality</th>\n",
       "      <th>vdh_health_district</th>\n",
       "      <th>total_cases</th>\n",
       "      <th>hospitalizations</th>\n",
       "      <th>deaths</th>\n",
       "    </tr>\n",
       "  </thead>\n",
       "  <tbody>\n",
       "    <tr>\n",
       "      <th>0</th>\n",
       "      <td>2021-06-18T00:00:00.000</td>\n",
       "      <td>51001</td>\n",
       "      <td>Accomack</td>\n",
       "      <td>Eastern Shore</td>\n",
       "      <td>2868</td>\n",
       "      <td>212</td>\n",
       "      <td>45</td>\n",
       "    </tr>\n",
       "    <tr>\n",
       "      <th>1</th>\n",
       "      <td>2021-06-18T00:00:00.000</td>\n",
       "      <td>51003</td>\n",
       "      <td>Albemarle</td>\n",
       "      <td>Blue Ridge</td>\n",
       "      <td>5815</td>\n",
       "      <td>235</td>\n",
       "      <td>85</td>\n",
       "    </tr>\n",
       "    <tr>\n",
       "      <th>2</th>\n",
       "      <td>2021-06-18T00:00:00.000</td>\n",
       "      <td>51005</td>\n",
       "      <td>Alleghany</td>\n",
       "      <td>Alleghany</td>\n",
       "      <td>1372</td>\n",
       "      <td>64</td>\n",
       "      <td>49</td>\n",
       "    </tr>\n",
       "    <tr>\n",
       "      <th>3</th>\n",
       "      <td>2021-06-18T00:00:00.000</td>\n",
       "      <td>51007</td>\n",
       "      <td>Amelia</td>\n",
       "      <td>Piedmont</td>\n",
       "      <td>926</td>\n",
       "      <td>54</td>\n",
       "      <td>36</td>\n",
       "    </tr>\n",
       "    <tr>\n",
       "      <th>4</th>\n",
       "      <td>2021-06-18T00:00:00.000</td>\n",
       "      <td>51009</td>\n",
       "      <td>Amherst</td>\n",
       "      <td>Central Virginia</td>\n",
       "      <td>2979</td>\n",
       "      <td>127</td>\n",
       "      <td>40</td>\n",
       "    </tr>\n",
       "  </tbody>\n",
       "</table>\n",
       "</div>"
      ],
      "text/plain": [
       "               report_date   fips   locality vdh_health_district total_cases  \\\n",
       "0  2021-06-18T00:00:00.000  51001   Accomack       Eastern Shore        2868   \n",
       "1  2021-06-18T00:00:00.000  51003  Albemarle          Blue Ridge        5815   \n",
       "2  2021-06-18T00:00:00.000  51005  Alleghany           Alleghany        1372   \n",
       "3  2021-06-18T00:00:00.000  51007     Amelia            Piedmont         926   \n",
       "4  2021-06-18T00:00:00.000  51009    Amherst    Central Virginia        2979   \n",
       "\n",
       "  hospitalizations deaths  \n",
       "0              212     45  \n",
       "1              235     85  \n",
       "2               64     49  \n",
       "3               54     36  \n",
       "4              127     40  "
      ]
     },
     "execution_count": 3,
     "metadata": {},
     "output_type": "execute_result"
    }
   ],
   "source": [
    "results_df.head()"
   ]
  },
  {
   "cell_type": "code",
   "execution_count": 4,
   "id": "prescribed-backup",
   "metadata": {},
   "outputs": [
    {
     "data": {
      "text/plain": [
       "(61047, 7)"
      ]
     },
     "execution_count": 4,
     "metadata": {},
     "output_type": "execute_result"
    }
   ],
   "source": [
    "results_df.shape"
   ]
  },
  {
   "cell_type": "code",
   "execution_count": 5,
   "id": "strange-stamp",
   "metadata": {},
   "outputs": [],
   "source": [
    "results_df.to_csv(\"cases.csv\", index=False)"
   ]
  },
  {
   "cell_type": "code",
   "execution_count": 6,
   "id": "available-driving",
   "metadata": {},
   "outputs": [
    {
     "name": "stdout",
     "output_type": "stream",
     "text": [
      "<class 'pandas.core.frame.DataFrame'>\n",
      "RangeIndex: 61047 entries, 0 to 61046\n",
      "Data columns (total 7 columns):\n",
      " #   Column               Non-Null Count  Dtype \n",
      "---  ------               --------------  ----- \n",
      " 0   report_date          61047 non-null  object\n",
      " 1   fips                 61047 non-null  object\n",
      " 2   locality             61047 non-null  object\n",
      " 3   vdh_health_district  61047 non-null  object\n",
      " 4   total_cases          61047 non-null  object\n",
      " 5   hospitalizations     61047 non-null  object\n",
      " 6   deaths               61047 non-null  object\n",
      "dtypes: object(7)\n",
      "memory usage: 3.3+ MB\n"
     ]
    }
   ],
   "source": [
    "results_df.info()"
   ]
  },
  {
   "cell_type": "code",
   "execution_count": 7,
   "id": "elementary-community",
   "metadata": {},
   "outputs": [],
   "source": [
    "client = Socrata(\"data.virginia.gov\",\n",
    "                 \"NngCh4cIYdkg2eNP2DqZs1iAq\",\n",
    "                 username=\"chiting1013@gmail.com\",\n",
    "                 password=\"W4eK8vAE8MkevAp\",\n",
    "                timeout=10)"
   ]
  },
  {
   "cell_type": "code",
   "execution_count": 8,
   "id": "balanced-character",
   "metadata": {},
   "outputs": [],
   "source": [
    "vaccines = client.get(\"28k2-x2rj\", limit=500000)\n",
    "\n",
    "# Convert to pandas DataFrame\n",
    "vaccine_df = pd.DataFrame.from_records(vaccines)"
   ]
  },
  {
   "cell_type": "code",
   "execution_count": 9,
   "id": "surgical-therapist",
   "metadata": {},
   "outputs": [
    {
     "data": {
      "text/html": [
       "<div>\n",
       "<style scoped>\n",
       "    .dataframe tbody tr th:only-of-type {\n",
       "        vertical-align: middle;\n",
       "    }\n",
       "\n",
       "    .dataframe tbody tr th {\n",
       "        vertical-align: top;\n",
       "    }\n",
       "\n",
       "    .dataframe thead th {\n",
       "        text-align: right;\n",
       "    }\n",
       "</style>\n",
       "<table border=\"1\" class=\"dataframe\">\n",
       "  <thead>\n",
       "    <tr style=\"text-align: right;\">\n",
       "      <th></th>\n",
       "      <th>administration_date</th>\n",
       "      <th>fips</th>\n",
       "      <th>locality</th>\n",
       "      <th>health_district</th>\n",
       "      <th>facility_type</th>\n",
       "      <th>vaccine_manufacturer</th>\n",
       "      <th>dose_number</th>\n",
       "      <th>vaccine_doses_administered</th>\n",
       "    </tr>\n",
       "  </thead>\n",
       "  <tbody>\n",
       "    <tr>\n",
       "      <th>0</th>\n",
       "      <td>2021-06-17T00:00:00.000</td>\n",
       "      <td>51001</td>\n",
       "      <td>Accomack</td>\n",
       "      <td>Eastern Shore</td>\n",
       "      <td>Other Community Health Providers</td>\n",
       "      <td>Pfizer</td>\n",
       "      <td>2</td>\n",
       "      <td>4</td>\n",
       "    </tr>\n",
       "    <tr>\n",
       "      <th>1</th>\n",
       "      <td>2021-06-17T00:00:00.000</td>\n",
       "      <td>51001</td>\n",
       "      <td>Accomack</td>\n",
       "      <td>Eastern Shore</td>\n",
       "      <td>Medical Practices</td>\n",
       "      <td>Moderna</td>\n",
       "      <td>2</td>\n",
       "      <td>6</td>\n",
       "    </tr>\n",
       "    <tr>\n",
       "      <th>2</th>\n",
       "      <td>2021-06-17T00:00:00.000</td>\n",
       "      <td>51001</td>\n",
       "      <td>Accomack</td>\n",
       "      <td>Eastern Shore</td>\n",
       "      <td>Pharmacies</td>\n",
       "      <td>Moderna</td>\n",
       "      <td>1</td>\n",
       "      <td>3</td>\n",
       "    </tr>\n",
       "    <tr>\n",
       "      <th>3</th>\n",
       "      <td>2021-06-17T00:00:00.000</td>\n",
       "      <td>51001</td>\n",
       "      <td>Accomack</td>\n",
       "      <td>Eastern Shore</td>\n",
       "      <td>Other Community Health Providers</td>\n",
       "      <td>Pfizer</td>\n",
       "      <td>1</td>\n",
       "      <td>6</td>\n",
       "    </tr>\n",
       "    <tr>\n",
       "      <th>4</th>\n",
       "      <td>2021-06-17T00:00:00.000</td>\n",
       "      <td>51001</td>\n",
       "      <td>Accomack</td>\n",
       "      <td>Eastern Shore</td>\n",
       "      <td>Medical Practices</td>\n",
       "      <td>Moderna</td>\n",
       "      <td>1</td>\n",
       "      <td>2</td>\n",
       "    </tr>\n",
       "  </tbody>\n",
       "</table>\n",
       "</div>"
      ],
      "text/plain": [
       "       administration_date   fips  locality health_district  \\\n",
       "0  2021-06-17T00:00:00.000  51001  Accomack   Eastern Shore   \n",
       "1  2021-06-17T00:00:00.000  51001  Accomack   Eastern Shore   \n",
       "2  2021-06-17T00:00:00.000  51001  Accomack   Eastern Shore   \n",
       "3  2021-06-17T00:00:00.000  51001  Accomack   Eastern Shore   \n",
       "4  2021-06-17T00:00:00.000  51001  Accomack   Eastern Shore   \n",
       "\n",
       "                      facility_type vaccine_manufacturer dose_number  \\\n",
       "0  Other Community Health Providers               Pfizer           2   \n",
       "1                 Medical Practices              Moderna           2   \n",
       "2                        Pharmacies              Moderna           1   \n",
       "3  Other Community Health Providers               Pfizer           1   \n",
       "4                 Medical Practices              Moderna           1   \n",
       "\n",
       "  vaccine_doses_administered  \n",
       "0                          4  \n",
       "1                          6  \n",
       "2                          3  \n",
       "3                          6  \n",
       "4                          2  "
      ]
     },
     "execution_count": 9,
     "metadata": {},
     "output_type": "execute_result"
    }
   ],
   "source": [
    "vaccine_df.head()"
   ]
  },
  {
   "cell_type": "code",
   "execution_count": 10,
   "id": "aaac3e4d-5759-4f3e-9807-1ad8f87c36ba",
   "metadata": {},
   "outputs": [
    {
     "data": {
      "text/plain": [
       "(259100, 8)"
      ]
     },
     "execution_count": 10,
     "metadata": {},
     "output_type": "execute_result"
    }
   ],
   "source": [
    "vaccine_df.shape"
   ]
  },
  {
   "cell_type": "code",
   "execution_count": 11,
   "id": "broad-equilibrium",
   "metadata": {},
   "outputs": [],
   "source": [
    "vaccine_df.to_csv(\"vaccine.csv\", index=False)"
   ]
  },
  {
   "cell_type": "code",
   "execution_count": 12,
   "id": "innovative-avenue",
   "metadata": {},
   "outputs": [
    {
     "name": "stdout",
     "output_type": "stream",
     "text": [
      "<class 'pandas.core.frame.DataFrame'>\n",
      "RangeIndex: 259100 entries, 0 to 259099\n",
      "Data columns (total 8 columns):\n",
      " #   Column                      Non-Null Count   Dtype \n",
      "---  ------                      --------------   ----- \n",
      " 0   administration_date         259098 non-null  object\n",
      " 1   fips                        259100 non-null  object\n",
      " 2   locality                    259100 non-null  object\n",
      " 3   health_district             259100 non-null  object\n",
      " 4   facility_type               259100 non-null  object\n",
      " 5   vaccine_manufacturer        259100 non-null  object\n",
      " 6   dose_number                 259100 non-null  object\n",
      " 7   vaccine_doses_administered  259100 non-null  object\n",
      "dtypes: object(8)\n",
      "memory usage: 15.8+ MB\n"
     ]
    }
   ],
   "source": [
    "vaccine_df.info()"
   ]
  },
  {
   "cell_type": "code",
   "execution_count": 13,
   "id": "61186850-8dfb-435d-855d-ea6a061bacf2",
   "metadata": {},
   "outputs": [],
   "source": [
    "# Create an SQLite database\n",
    "from sqlalchemy import create_engine\n",
    "engine = create_engine('sqlite:///test.db')\n",
    "\n",
    "# create table for each df in DB\n",
    "results_df.to_sql(\"case_data\", con=engine, if_exists='replace', index=False)\n",
    "vaccine_df.to_sql(\"vaccine_data\", con=engine, if_exists='replace', index=False)"
   ]
  },
  {
   "cell_type": "code",
   "execution_count": null,
   "id": "backed-benefit",
   "metadata": {},
   "outputs": [],
   "source": []
  }
 ],
 "metadata": {
  "kernelspec": {
   "display_name": "Python [conda env:root]",
   "language": "python",
   "name": "conda-root-py"
  },
  "language_info": {
   "codemirror_mode": {
    "name": "ipython",
    "version": 3
   },
   "file_extension": ".py",
   "mimetype": "text/x-python",
   "name": "python",
   "nbconvert_exporter": "python",
   "pygments_lexer": "ipython3",
   "version": "3.8.5"
  }
 },
 "nbformat": 4,
 "nbformat_minor": 5
}
